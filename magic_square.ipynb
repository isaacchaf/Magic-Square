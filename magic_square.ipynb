{
 "cells": [
  {
   "cell_type": "raw",
   "metadata": {},
   "source": [
    "TEAM:\n",
    "Auria Dzul Castro\n",
    "Hector Hernandez Escalante\n",
    "Isaac Chavez Fuentes\n",
    "Adrian Carmona Rodriguez\n",
    "\n",
    "DATA 3A _-------------------------------------------------------------------------------------------------------------------\n",
    "                                           UNIVERSIDAD POLITECNICA DE YUCATAN\n",
    "MERIDA YUCATAN 17 DE SEPTIEMBRE DEL 2019"
   ]
  },
  {
   "attachments": {
    "imagen.png": {
     "image/png": "[encoded data removed]"
    }
   },
   "cell_type": "markdown",
   "metadata": {},
   "source": [
    "![imagen.png](attachment:imagen.png)"
   ]
  },
  {
   "cell_type": "code",
   "execution_count": 1,
   "metadata": {},
   "outputs": [],
   "source": [
    "import random\n",
    "\n",
    "#function to make a matrix\n",
    "def cuadro():\n",
    "    # Define the numbers of the matrix\n",
    "    list = [1,2,3,4,6,7,8,9]\n",
    "\n",
    "    # Declare an empty matrix\n",
    "    square = [[0,0,0],[0,5,0],[0,0,0]]\n",
    "\n",
    "    # loop inside the matrix\n",
    "    for i in range(3):\n",
    "\n",
    "        for j in range(3):\n",
    "            \n",
    "            if (square[i][j] !=  5):\n",
    "\n",
    "                # choose a random number from list \n",
    "                num = random.choice(list)\n",
    "            \n",
    "                # input the random number inside the matrix\n",
    "                square[i][j] = num\n",
    "\n",
    "                # remove the choosen number from the list, so this does not repeat\n",
    "                list.remove(num)\n",
    "\n",
    "    return square\n",
    "    "
   ]
  },
  {
   "cell_type": "code",
   "execution_count": 2,
   "metadata": {},
   "outputs": [
    {
     "name": "stdout",
     "output_type": "stream",
     "text": [
      "[[2, 4, 6], [3, 5, 8], [7, 9, 1]]\n"
     ]
    }
   ],
   "source": [
    "matriz=cuadro()\n",
    "print(matriz)"
   ]
  },
  {
   "cell_type": "code",
   "execution_count": 3,
   "metadata": {},
   "outputs": [],
   "source": [
    "#function to check \n",
    "\n",
    "def check (matriz) :\n",
    "    # the size of the matrix\n",
    "    N = len(matriz[0])\n",
    "    # sumas is an empty array to save the sums\n",
    "    sums = []\n",
    "    # check the row\n",
    "    for i in range (N) :\n",
    "        suma = 0\n",
    "        for j in range (N) :\n",
    "            suma += matriz[i][j]\n",
    "        sums.append (suma)\n",
    "    # check the columns\n",
    "    for j in range (N) :\n",
    "        suma = 0\n",
    "    for i in range (N) :\n",
    "            suma += matriz[i][j]\n",
    "    sums.append (suma)\n",
    "    # diagonal sums\n",
    "    suma = 0\n",
    "    for k in range (N):\n",
    "        suma += matriz[k][k]\n",
    "    sums.append (suma)\n",
    "        # diagonal sums\n",
    "    suma = 0\n",
    "    for j in range (N):\n",
    "        i = N - 1 - j\n",
    "        suma += matriz[i][j]\n",
    "    sums.append (suma)\n",
    "        # check if the sums are the same\n",
    "    ultimaSuma = sums[0]\n",
    "    for suma in sums :\n",
    "        if ultimaSuma != suma :\n",
    "            return False\n",
    "        ultimaSuma = suma\n",
    "    return True"
   ]
  },
  {
   "cell_type": "code",
   "execution_count": 6,
   "metadata": {},
   "outputs": [
    {
     "name": "stdout",
     "output_type": "stream",
     "text": [
      "[8, 3, 4]\n",
      "[1, 5, 9]\n",
      "[6, 7, 2]\n"
     ]
    }
   ],
   "source": [
    "matrix_true = False\n",
    "while matrix_true == False:\n",
    "    #check if it is a magic square\n",
    "    matriz =  cuadro()\n",
    "    if check(matriz) == True:\n",
    "        matrix_true = True \n",
    "        \n",
    "print(matriz[0])\n",
    "print(matriz[1])\n",
    "print(matriz[2])"
   ]
  },
  {
   "cell_type": "code",
   "execution_count": null,
   "metadata": {},
   "outputs": [],
   "source": []
  },
  {
   "cell_type": "code",
   "execution_count": null,
   "metadata": {},
   "outputs": [],
   "source": []
  }
 ],
 "metadata": {
  "kernelspec": {
   "display_name": "Python 3",
   "language": "python",
   "name": "python3"
  },
  "language_info": {
   "codemirror_mode": {
    "name": "ipython",
    "version": 3
   },
   "file_extension": ".py",
   "mimetype": "text/x-python",
   "name": "python",
   "nbconvert_exporter": "python",
   "pygments_lexer": "ipython3",
   "version": "3.7.3"
  }
 },
 "nbformat": 4,
 "nbformat_minor": 2
}
